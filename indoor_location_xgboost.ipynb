{
 "cells": [
  {
   "cell_type": "code",
   "execution_count": 131,
   "metadata": {},
   "outputs": [],
   "source": [
    "from __future__ import division\n",
    "import numpy as np\n",
    "import pandas as pd\n",
    "import scipy.sparse\n",
    "import pickle\n",
    "import xgboost as xgb\n",
    "from sklearn.preprocessing import OneHotEncoder, LabelEncoder, LabelBinarizer"
   ]
  },
  {
   "cell_type": "code",
   "execution_count": 132,
   "metadata": {},
   "outputs": [],
   "source": [
    "df=pd.read_csv(\"sample_data.csv\", sep=',')    "
   ]
  },
  {
   "cell_type": "code",
   "execution_count": 133,
   "metadata": {},
   "outputs": [
    {
     "name": "stdout",
     "output_type": "stream",
     "text": [
      "[0]\ttrain-merror:0.001488\ttest-merror:0.00284\n",
      "[1]\ttrain-merror:0.000812\ttest-merror:0.00284\n",
      "[2]\ttrain-merror:0.001488\ttest-merror:0.00284\n",
      "[3]\ttrain-merror:0.000812\ttest-merror:0.00284\n",
      "[4]\ttrain-merror:0.000812\ttest-merror:0.00284\n",
      "Test error using softmax = 0.002840012622278321\n",
      "[0]\ttrain-merror:0.001488\ttest-merror:0.00284\n",
      "[1]\ttrain-merror:0.000812\ttest-merror:0.00284\n",
      "[2]\ttrain-merror:0.001488\ttest-merror:0.00284\n",
      "[3]\ttrain-merror:0.000812\ttest-merror:0.00284\n",
      "[4]\ttrain-merror:0.000812\ttest-merror:0.00284\n",
      "Test error using softprob = 0.002840012622278321\n"
     ]
    }
   ],
   "source": [
    "# Create training and validation sets\n",
    "sz = df.shape\n",
    "train_df = df.iloc[:int(sz[0] * 0.7), :]\n",
    "test_df = df.iloc[int(sz[0] * 0.7):, :]\n",
    "\n",
    "# Keep only the srs columns\n",
    "train_df1 = train_df.iloc[:, :32]\n",
    "\n",
    "# Separate X & Y for training\n",
    "train_X = train_df1.values\n",
    "train_Y1 = train_df.iloc[:, 32].values\n",
    "train_Y2 = train_df.iloc[:, 33].values\n",
    "\n",
    "test_df1 = test_df.iloc[:, :32]\n",
    "\n",
    "# Separate X & Y for test\n",
    "test_X = test_df1.values\n",
    "test_Y1 = test_df.iloc[:, 32].values\n",
    "test_Y2 = test_df.iloc[:, 33].values\n",
    "\n",
    "classes = filter_df.ue_loc_1.unique()\n",
    "num_classes = filter_df.ue_loc_1.nunique()\n",
    "\n",
    "# integer encode\n",
    "le = LabelEncoder()\n",
    "train_Y = le.fit_transform(train_Y1.tolist())\n",
    "test_Y = le.fit_transform(test_Y1.tolist())\n",
    "\n",
    "xg_train = xgb.DMatrix(train_X, label=train_Y)\n",
    "xg_test = xgb.DMatrix(test_X, label=test_Y)\n",
    "\n",
    "# setup parameters for xgboost\n",
    "param = {}\n",
    "# use softmax multi-class classification\n",
    "param['objective'] = 'multi:softmax'\n",
    "# scale weight of positive examples\n",
    "param['eta'] = 0.1\n",
    "param['max_depth'] = 6\n",
    "param['silent'] = 1\n",
    "param['nthread'] = 4\n",
    "param['num_class'] = num_classes\n",
    "\n",
    "watchlist = [(xg_train, 'train'), (xg_test, 'test')]\n",
    "num_round = 5\n",
    "bst = xgb.train(param, xg_train, num_round, watchlist)\n",
    "bst.dump_model('dump.nice.txt', 'myfeatmap.txt')\n",
    "# get prediction\n",
    "pred = bst.predict(xg_test)\n",
    "error_rate = np.sum(pred != test_Y) / test_Y.shape[0]\n",
    "print('Test error using softmax = {}'.format(error_rate))\n",
    "\n",
    "# do the same thing again, but output probabilities\n",
    "param['objective'] = 'multi:softprob'\n",
    "bst = xgb.train(param, xg_train, num_round, watchlist)\n",
    "# Note: this convention has been changed since xgboost-unity\n",
    "# get prediction, this is in 1D array, need reshape to (ndata, nclass)\n",
    "pred_prob = bst.predict(xg_test).reshape(test_Y.shape[0], num_classes)\n",
    "pred_label = np.argmax(pred_prob, axis=1)\n",
    "error_rate = np.sum(pred_label != test_Y) / test_Y.shape[0]\n",
    "print('Test error using softprob = {}'.format(error_rate))\n",
    "\n",
    "# # Serialize both the pipeline and binarizer to disk.\n",
    "# with open('my_sklearn_objects.pkl', 'wb') as f:\n",
    "#     pickle.dump((bst, le), f)"
   ]
  },
  {
   "cell_type": "raw",
   "metadata": {},
   "source": [
    "errors = np.where(np.not_equal(pred_label, test_Y))[0]\n",
    "for i,val in enumerate(errors):\n",
    "    print(\"Actual/Predicted: \" + \"%s/%s : [%f:%f] for %d\" % (le.inverse_transform([pred_label[val]]), le.inverse_transform([test_Y[val]]), pred_prob[val][test_Y[val]], pred_prob[val][pred_label[val]], val))\n",
    "    print( test_Y[val], pred_label[val],pred_prob[val])\n",
    "    \n"
   ]
  },
  {
   "cell_type": "raw",
   "metadata": {},
   "source": [
    "bst.save_model('0001.model')\n",
    "bst.dump_model('dump.nice.txt', 'myfeatmap.txt')"
   ]
  },
  {
   "cell_type": "markdown",
   "metadata": {},
   "source": [
    "### Load Model"
   ]
  },
  {
   "cell_type": "code",
   "execution_count": 134,
   "metadata": {},
   "outputs": [
    {
     "data": {
      "text/plain": [
       "'rp6'"
      ]
     },
     "execution_count": 134,
     "metadata": {},
     "output_type": "execute_result"
    }
   ],
   "source": [
    "# Hydrate the serialized objects.\n",
    "with open('my_sklearn_objects.pkl', 'rb') as f:\n",
    "    bst1, le1 = pickle.load(f)\n",
    "    \n",
    "data = [100.0,99.0,124,128,95,190,98,92,158,96,97,141,99,97,99,151,98,96,99,100,99,94,124,148,98,98,120,100,95,99,98.0,100]\n",
    "data = [float(val) for val in data]\n",
    "dtest = xgb.DMatrix(data)\n",
    "test_pred = bst1.predict(dtest)\n",
    "test_label = np.argmax(test_pred, axis=1)\n",
    "final_pred = le1.inverse_transform(test_label)\n",
    "final_pred[0]"
   ]
  },
  {
   "cell_type": "markdown",
   "metadata": {},
   "source": [
    "array(['rp12', 'rp15', 'rp16', 'rp24', 'rp27', 'rp3', 'rp32', 'rp4',\n",
    "       'rp6', 'rp9'], dtype='<U4')"
   ]
  },
  {
   "cell_type": "code",
   "execution_count": null,
   "metadata": {},
   "outputs": [],
   "source": []
  }
 ],
 "metadata": {
  "kernelspec": {
   "display_name": "Python 3",
   "language": "python",
   "name": "python3"
  },
  "language_info": {
   "codemirror_mode": {
    "name": "ipython",
    "version": 3
   },
   "file_extension": ".py",
   "mimetype": "text/x-python",
   "name": "python",
   "nbconvert_exporter": "python",
   "pygments_lexer": "ipython3",
   "version": "3.6.7"
  }
 },
 "nbformat": 4,
 "nbformat_minor": 2
}
